{
 "cells": [
  {
   "cell_type": "markdown",
   "metadata": {
    "id": "9cB27mwJEckr"
   },
   "source": [
    "**PART-A**\n",
    "\n",
    "* DOMAIN: Digital content management\n",
    "\n",
    "* CONTEXT: Classification is probably the most popular task that you would deal with in real life. Text in the form of blogs, posts, articles, etc. \n",
    "are written every second. It is a challenge to predict the information about the writer without knowing about him/her. We are going to create a \n",
    "classifier that predicts multiple features of the author of a given text. We have designed it as a Multi label classification problem."
   ]
  },
  {
   "cell_type": "code",
   "execution_count": 1,
   "metadata": {
    "colab": {
     "base_uri": "https://localhost:8080/"
    },
    "id": "ChbTTr7Ksv5f",
    "outputId": "4027c0e7-a78b-4fb8-db0d-43c12584e851"
   },
   "outputs": [
    {
     "name": "stdout",
     "output_type": "stream",
     "text": [
      "Drive already mounted at /content/drive/; to attempt to forcibly remount, call drive.mount(\"/content/drive/\", force_remount=True).\n"
     ]
    }
   ],
   "source": [
    "# mounting google drive\n",
    "\n",
    "from google.colab import drive\n",
    "drive.mount('/content/drive/')"
   ]
  },
  {
   "cell_type": "code",
   "execution_count": null,
   "metadata": {
    "id": "2xgokaT0Kmo6"
   },
   "outputs": [],
   "source": [
    "pip install langdetect"
   ]
  },
  {
   "cell_type": "code",
   "execution_count": null,
   "metadata": {
    "id": "c4dTxVnvpWh-"
   },
   "outputs": [],
   "source": [
    "pip install nlpaug"
   ]
  },
  {
   "cell_type": "code",
   "execution_count": null,
   "metadata": {
    "id": "QEst1CX2tUNz"
   },
   "outputs": [],
   "source": [
    "# importing all the necessary packages\n",
    "\n",
    "import random\n",
    "import pandas as pd\n",
    "import numpy as np\n",
    "import matplotlib.pyplot as plt\n",
    "import seaborn as sns\n",
    "%matplotlib inline\n",
    "import re\n",
    "\n",
    "from langdetect import detect,detector_factory\n",
    "detector_factory.seed = 42\n",
    "\n",
    "from sklearn.preprocessing import LabelEncoder\n",
    "\n",
    "from sklearn.model_selection import train_test_split\n",
    "from sklearn.linear_model import LogisticRegression\n",
    "from sklearn.svm import SVC\n",
    "from sklearn.neighbors import KNeighborsClassifier\n",
    "from sklearn.naive_bayes import MultinomialNB\n",
    "from sklearn.ensemble import RandomForestClassifier,GradientBoostingClassifier,AdaBoostClassifier,BaggingClassifier\n",
    "\n",
    "from sklearn.tree import DecisionTreeClassifier\n",
    "\n",
    "from sklearn.model_selection import train_test_split, GridSearchCV, StratifiedKFold,KFold\n",
    "\n",
    "from sklearn.feature_extraction.text import CountVectorizer\n",
    "from sklearn.feature_extraction.text import TfidfVectorizer \n",
    "\n",
    "from sklearn.metrics import accuracy_score,f1_score,precision_score,recall_score,roc_auc_score\n",
    "\n",
    "import nltk\n",
    "nltk.download('punkt')\n",
    "nltk.download('wordnet')\n",
    "nltk.download('stopwords')\n",
    "nltk.download('averaged_perceptron_tagger')\n",
    "\n",
    "\n",
    "from nltk.corpus import stopwords\n",
    "from nltk.stem import PorterStemmer\n",
    "from nltk.stem import WordNetLemmatizer\n",
    "from nltk.tokenize import RegexpTokenizer\n",
    "stopwords = set(stopwords.words('english'))\n",
    "\n",
    "import json\n",
    "import nlpaug\n",
    "import nlpaug.augmenter.word as naw\n",
    "\n",
    "\n",
    "import tensorflow as tf\n",
    "from tensorflow import keras\n",
    "from keras.models import Sequential\n",
    "from keras.layers import Dense,Dropout\n",
    "\n",
    "from numpy import array\n",
    "from numpy import asarray\n",
    "from numpy import zeros\n",
    "from keras.preprocessing.text import Tokenizer\n",
    "from keras.preprocessing.sequence import pad_sequences\n",
    "from keras.models import Sequential\n",
    "from keras.layers import Dense\n",
    "from keras.layers import Flatten\n",
    "from keras.layers import Embedding\n",
    "\n",
    "from tensorflow.keras.utils import to_categorical\n",
    "\n",
    "\n",
    "import warnings\n",
    "warnings.filterwarnings('ignore')"
   ]
  },
  {
   "cell_type": "code",
   "execution_count": 5,
   "metadata": {
    "colab": {
     "base_uri": "https://localhost:8080/",
     "height": 206
    },
    "id": "N30tRazducOq",
    "outputId": "39ca3494-fa8f-47d0-c9ef-c1ff0e3e7454"
   },
   "outputs": [
    {
     "data": {
      "text/html": [
       "\n",
       "  <div id=\"df-171b2dfe-82ce-4208-afa3-b32ff9a38d3d\">\n",
       "    <div class=\"colab-df-container\">\n",
       "      <div>\n",
       "<style scoped>\n",
       "    .dataframe tbody tr th:only-of-type {\n",
       "        vertical-align: middle;\n",
       "    }\n",
       "\n",
       "    .dataframe tbody tr th {\n",
       "        vertical-align: top;\n",
       "    }\n",
       "\n",
       "    .dataframe thead th {\n",
       "        text-align: right;\n",
       "    }\n",
       "</style>\n",
       "<table border=\"1\" class=\"dataframe\">\n",
       "  <thead>\n",
       "    <tr style=\"text-align: right;\">\n",
       "      <th></th>\n",
       "      <th>id</th>\n",
       "      <th>gender</th>\n",
       "      <th>age</th>\n",
       "      <th>topic</th>\n",
       "      <th>sign</th>\n",
       "      <th>date</th>\n",
       "      <th>text</th>\n",
       "    </tr>\n",
       "  </thead>\n",
       "  <tbody>\n",
       "    <tr>\n",
       "      <th>0</th>\n",
       "      <td>2059027</td>\n",
       "      <td>male</td>\n",
       "      <td>15</td>\n",
       "      <td>Student</td>\n",
       "      <td>Leo</td>\n",
       "      <td>14,May,2004</td>\n",
       "      <td>Info has been found (+/- 100 pages,...</td>\n",
       "    </tr>\n",
       "    <tr>\n",
       "      <th>1</th>\n",
       "      <td>2059027</td>\n",
       "      <td>male</td>\n",
       "      <td>15</td>\n",
       "      <td>Student</td>\n",
       "      <td>Leo</td>\n",
       "      <td>13,May,2004</td>\n",
       "      <td>These are the team members:   Drewe...</td>\n",
       "    </tr>\n",
       "    <tr>\n",
       "      <th>2</th>\n",
       "      <td>2059027</td>\n",
       "      <td>male</td>\n",
       "      <td>15</td>\n",
       "      <td>Student</td>\n",
       "      <td>Leo</td>\n",
       "      <td>12,May,2004</td>\n",
       "      <td>In het kader van kernfusie op aarde...</td>\n",
       "    </tr>\n",
       "    <tr>\n",
       "      <th>3</th>\n",
       "      <td>2059027</td>\n",
       "      <td>male</td>\n",
       "      <td>15</td>\n",
       "      <td>Student</td>\n",
       "      <td>Leo</td>\n",
       "      <td>12,May,2004</td>\n",
       "      <td>testing!!!  testing!!!</td>\n",
       "    </tr>\n",
       "    <tr>\n",
       "      <th>4</th>\n",
       "      <td>3581210</td>\n",
       "      <td>male</td>\n",
       "      <td>33</td>\n",
       "      <td>InvestmentBanking</td>\n",
       "      <td>Aquarius</td>\n",
       "      <td>11,June,2004</td>\n",
       "      <td>Thanks to Yahoo!'s Toolbar I can ...</td>\n",
       "    </tr>\n",
       "  </tbody>\n",
       "</table>\n",
       "</div>\n",
       "      <button class=\"colab-df-convert\" onclick=\"convertToInteractive('df-171b2dfe-82ce-4208-afa3-b32ff9a38d3d')\"\n",
       "              title=\"Convert this dataframe to an interactive table.\"\n",
       "              style=\"display:none;\">\n",
       "        \n",
       "  <svg xmlns=\"http://www.w3.org/2000/svg\" height=\"24px\"viewBox=\"0 0 24 24\"\n",
       "       width=\"24px\">\n",
       "    <path d=\"M0 0h24v24H0V0z\" fill=\"none\"/>\n",
       "    <path d=\"M18.56 5.44l.94 2.06.94-2.06 2.06-.94-2.06-.94-.94-2.06-.94 2.06-2.06.94zm-11 1L8.5 8.5l.94-2.06 2.06-.94-2.06-.94L8.5 2.5l-.94 2.06-2.06.94zm10 10l.94 2.06.94-2.06 2.06-.94-2.06-.94-.94-2.06-.94 2.06-2.06.94z\"/><path d=\"M17.41 7.96l-1.37-1.37c-.4-.4-.92-.59-1.43-.59-.52 0-1.04.2-1.43.59L10.3 9.45l-7.72 7.72c-.78.78-.78 2.05 0 2.83L4 21.41c.39.39.9.59 1.41.59.51 0 1.02-.2 1.41-.59l7.78-7.78 2.81-2.81c.8-.78.8-2.07 0-2.86zM5.41 20L4 18.59l7.72-7.72 1.47 1.35L5.41 20z\"/>\n",
       "  </svg>\n",
       "      </button>\n",
       "      \n",
       "  <style>\n",
       "    .colab-df-container {\n",
       "      display:flex;\n",
       "      flex-wrap:wrap;\n",
       "      gap: 12px;\n",
       "    }\n",
       "\n",
       "    .colab-df-convert {\n",
       "      background-color: #E8F0FE;\n",
       "      border: none;\n",
       "      border-radius: 50%;\n",
       "      cursor: pointer;\n",
       "      display: none;\n",
       "      fill: #1967D2;\n",
       "      height: 32px;\n",
       "      padding: 0 0 0 0;\n",
       "      width: 32px;\n",
       "    }\n",
       "\n",
       "    .colab-df-convert:hover {\n",
       "      background-color: #E2EBFA;\n",
       "      box-shadow: 0px 1px 2px rgba(60, 64, 67, 0.3), 0px 1px 3px 1px rgba(60, 64, 67, 0.15);\n",
       "      fill: #174EA6;\n",
       "    }\n",
       "\n",
       "    [theme=dark] .colab-df-convert {\n",
       "      background-color: #3B4455;\n",
       "      fill: #D2E3FC;\n",
       "    }\n",
       "\n",
       "    [theme=dark] .colab-df-convert:hover {\n",
       "      background-color: #434B5C;\n",
       "      box-shadow: 0px 1px 3px 1px rgba(0, 0, 0, 0.15);\n",
       "      filter: drop-shadow(0px 1px 2px rgba(0, 0, 0, 0.3));\n",
       "      fill: #FFFFFF;\n",
       "    }\n",
       "  </style>\n",
       "\n",
       "      <script>\n",
       "        const buttonEl =\n",
       "          document.querySelector('#df-171b2dfe-82ce-4208-afa3-b32ff9a38d3d button.colab-df-convert');\n",
       "        buttonEl.style.display =\n",
       "          google.colab.kernel.accessAllowed ? 'block' : 'none';\n",
       "\n",
       "        async function convertToInteractive(key) {\n",
       "          const element = document.querySelector('#df-171b2dfe-82ce-4208-afa3-b32ff9a38d3d');\n",
       "          const dataTable =\n",
       "            await google.colab.kernel.invokeFunction('convertToInteractive',\n",
       "                                                     [key], {});\n",
       "          if (!dataTable) return;\n",
       "\n",
       "          const docLinkHtml = 'Like what you see? Visit the ' +\n",
       "            '<a target=\"_blank\" href=https://colab.research.google.com/notebooks/data_table.ipynb>data table notebook</a>'\n",
       "            + ' to learn more about interactive tables.';\n",
       "          element.innerHTML = '';\n",
       "          dataTable['output_type'] = 'display_data';\n",
       "          await google.colab.output.renderOutput(dataTable, element);\n",
       "          const docLink = document.createElement('div');\n",
       "          docLink.innerHTML = docLinkHtml;\n",
       "          element.appendChild(docLink);\n",
       "        }\n",
       "      </script>\n",
       "    </div>\n",
       "  </div>\n",
       "  "
      ],
      "text/plain": [
       "        id  ...                                               text\n",
       "0  2059027  ...             Info has been found (+/- 100 pages,...\n",
       "1  2059027  ...             These are the team members:   Drewe...\n",
       "2  2059027  ...             In het kader van kernfusie op aarde...\n",
       "3  2059027  ...                   testing!!!  testing!!!          \n",
       "4  3581210  ...               Thanks to Yahoo!'s Toolbar I can ...\n",
       "\n",
       "[5 rows x 7 columns]"
      ]
     },
     "execution_count": 5,
     "metadata": {},
     "output_type": "execute_result"
    }
   ],
   "source": [
    "# storing the data in a dataframe\n",
    "\n",
    "blog = pd.read_csv(\"/content/drive/MyDrive/NLP/Wee_3 Assignment/blogtext.csv\")\n",
    "blog.head(5)"
   ]
  },
  {
   "cell_type": "code",
   "execution_count": 6,
   "metadata": {
    "colab": {
     "base_uri": "https://localhost:8080/"
    },
    "id": "KZ-5JyDCu48I",
    "outputId": "36879805-0a35-472e-f95f-696c090bfc21"
   },
   "outputs": [
    {
     "name": "stdout",
     "output_type": "stream",
     "text": [
      "The shape of the dataframe is: (681284, 7)\n"
     ]
    }
   ],
   "source": [
    "print(\"The shape of the dataframe is:\",blog.shape)"
   ]
  },
  {
   "cell_type": "code",
   "execution_count": 7,
   "metadata": {
    "colab": {
     "base_uri": "https://localhost:8080/"
    },
    "id": "0MTN44q-wQjj",
    "outputId": "dea96870-bf3d-40c7-b8ad-a3dc8d38c0d1"
   },
   "outputs": [
    {
     "data": {
      "text/plain": [
       "id         int64\n",
       "gender    object\n",
       "age        int64\n",
       "topic     object\n",
       "sign      object\n",
       "date      object\n",
       "text      object\n",
       "dtype: object"
      ]
     },
     "execution_count": 7,
     "metadata": {},
     "output_type": "execute_result"
    }
   ],
   "source": [
    "# checking the datatype of each column\n",
    "\n",
    "blog.dtypes"
   ]
  },
  {
   "cell_type": "code",
   "execution_count": 8,
   "metadata": {
    "colab": {
     "base_uri": "https://localhost:8080/"
    },
    "id": "YJNp4OnmvB54",
    "outputId": "4b3dc49a-a7d4-470e-9f0e-7c25b013b93c"
   },
   "outputs": [
    {
     "data": {
      "text/plain": [
       "id        0\n",
       "gender    0\n",
       "age       0\n",
       "topic     0\n",
       "sign      0\n",
       "date      0\n",
       "text      0\n",
       "dtype: int64"
      ]
     },
     "execution_count": 8,
     "metadata": {},
     "output_type": "execute_result"
    }
   ],
   "source": [
    "# checking for nulls in the numerical columns\n",
    "\n",
    "blog.isnull().sum()"
   ]
  },
  {
   "cell_type": "markdown",
   "metadata": {
    "id": "KLwYOWiSF14u"
   },
   "source": [
    "**UNIVARIATE ANALYSIS**"
   ]
  },
  {
   "cell_type": "code",
   "execution_count": 9,
   "metadata": {
    "colab": {
     "base_uri": "https://localhost:8080/",
     "height": 279
    },
    "id": "qhd_lZWKv9bx",
    "outputId": "cdd54215-254d-4e9a-ab60-5b269986f404"
   },
   "outputs": [
    {
     "data": {
      "image/png": "[encoded data removed]",
      "text/plain": [
       "<Figure size 432x288 with 1 Axes>"
      ]
     },
     "metadata": {
      "needs_background": "light"
     },
     "output_type": "display_data"
    }
   ],
   "source": [
    "sns.countplot(x = 'gender',data = blog);"
   ]
  },
  {
   "cell_type": "markdown",
   "metadata": {
    "id": "3Wej-0IcGB4h"
   },
   "source": [
    "* The count of both male and female are almost equal in the dataset"
   ]
  },
  {
   "cell_type": "code",
   "execution_count": 10,
   "metadata": {
    "colab": {
     "base_uri": "https://localhost:8080/",
     "height": 279
    },
    "id": "b8E1RWdGwM1_",
    "outputId": "a7e8dfb2-021b-4aec-e9ac-58cb9b92711c"
   },
   "outputs": [
    {
     "data": {
      "image/png": "[encoded data removed]",
      "text/plain": [
       "<Figure size 432x288 with 1 Axes>"
      ]
     },
     "metadata": {
      "needs_background": "light"
     },
     "output_type": "display_data"
    }
   ],
   "source": [
    "sns.distplot(blog['age'],hist=True);"
   ]
  },
  {
   "cell_type": "markdown",
   "metadata": {
    "id": "FsYM6b-1GNMh"
   },
   "source": [
    "* The distribution of age is high for values between 15-20 adn 20-30 where there is no blogs written by people of age 20-25 and 30-35. The maximum age is around 50"
   ]
  },
  {
   "cell_type": "code",
   "execution_count": 11,
   "metadata": {
    "colab": {
     "base_uri": "https://localhost:8080/",
     "height": 452
    },
    "id": "pkM5dxJuwbh3",
    "outputId": "e1e689d0-cfb5-40b3-8cbb-d0c2440d1b50"
   },
   "outputs": [
    {
     "data": {
      "image/png": "[encoded data removed]",
      "text/plain": [
       "<Figure size 720x360 with 1 Axes>"
      ]
     },
     "metadata": {
      "needs_background": "light"
     },
     "output_type": "display_data"
    }
   ],
   "source": [
    "plt.figure(figsize=(10,5))\n",
    "sns.countplot(x = 'topic',data = blog);\n",
    "plt.xticks(rotation=90)\n",
    "plt.show()"
   ]
  },
  {
   "cell_type": "markdown",
   "metadata": {
    "id": "Jnb4bFK_GuI8"
   },
   "source": [
    "* We can see that most of the people nearly 250,000 have blogged on indUnk topic followed by 150,000 have blogged on Student. All the other topics share a similar count of around 10,000"
   ]
  },
  {
   "cell_type": "code",
   "execution_count": 12,
   "metadata": {
    "colab": {
     "base_uri": "https://localhost:8080/",
     "height": 378
    },
    "id": "MDtRowXqxo2H",
    "outputId": "27cec99c-cf60-4875-fe93-3201e5e59d32"
   },
   "outputs": [
    {
     "data": {
      "image/png": "[encoded data removed]",
      "text/plain": [
       "<Figure size 720x360 with 1 Axes>"
      ]
     },
     "metadata": {
      "needs_background": "light"
     },
     "output_type": "display_data"
    }
   ],
   "source": [
    "plt.figure(figsize=(10,5))\n",
    "sns.countplot(x = 'sign',data = blog);\n",
    "plt.xticks(rotation=90)\n",
    "plt.show()"
   ]
  },
  {
   "cell_type": "markdown",
   "metadata": {
    "id": "_ruB_NJ2Hlvd"
   },
   "source": [
    "* The count of zodiac sign of each people is nearly the same in the dataset. Aries and Cancer signs top the group."
   ]
  },
  {
   "cell_type": "code",
   "execution_count": null,
   "metadata": {
    "id": "XBFQDIERxw2u"
   },
   "outputs": [],
   "source": []
  },
  {
   "cell_type": "markdown",
   "metadata": {
    "id": "DYYzXNGLH5c6"
   },
   "source": [
    "**BI-VARIATE ANALYSIS**"
   ]
  },
  {
   "cell_type": "code",
   "execution_count": 13,
   "metadata": {
    "colab": {
     "base_uri": "https://localhost:8080/",
     "height": 279
    },
    "id": "vRq3UFsJ3vHV",
    "outputId": "5a75a812-48a6-4f44-e3b2-227853843f5c"
   },
   "outputs": [
    {
     "data": {
      "image/png": "[encoded data removed]",
      "text/plain": [
       "<Figure size 432x288 with 1 Axes>"
      ]
     },
     "metadata": {
      "needs_background": "light"
     },
     "output_type": "display_data"
    }
   ],
   "source": [
    "sns.boxplot(x = 'gender',y = 'age',data = blog);"
   ]
  },
  {
   "cell_type": "markdown",
   "metadata": {
    "id": "--jd1wHSIFRO"
   },
   "source": [
    "* The mean age of both male and female are 23. The maximum and the minimum age is also the same for both male and female."
   ]
  },
  {
   "cell_type": "code",
   "execution_count": 14,
   "metadata": {
    "colab": {
     "base_uri": "https://localhost:8080/",
     "height": 724
    },
    "id": "aP2TsiPW36Oj",
    "outputId": "4b423057-c0de-4a8b-cfd8-e35ba020b6ed"
   },
   "outputs": [
    {
     "data": {
      "image/png": "[encoded data removed]",
      "text/plain": [
       "<Figure size 1440x720 with 1 Axes>"
      ]
     },
     "metadata": {
      "needs_background": "light"
     },
     "output_type": "display_data"
    }
   ],
   "source": [
    "plt.figure(figsize=(20,10))\n",
    "sns.boxplot(x = 'topic',y = 'age',data = blog);\n",
    "plt.xticks(rotation=90)\n",
    "plt.show()"
   ]
  },
  {
   "cell_type": "markdown",
   "metadata": {
    "id": "HA2_w2u2Il5G"
   },
   "source": [
    "* The mean age of all the people who have blogged on different topics is almost the same\n",
    "\n",
    "* Only the mean of people who have blogged on Student is small compared to others. This might be because almost most the blogs on Student topic is written by student themselves where the age is ranging between 15 and 23. The people above this age might be teacher, letcurers etc\n",
    "\n",
    "\n"
   ]
  },
  {
   "cell_type": "code",
   "execution_count": null,
   "metadata": {
    "id": "HwwPUDnwLn1I"
   },
   "outputs": [],
   "source": []
  },
  {
   "cell_type": "code",
   "execution_count": 15,
   "metadata": {
    "id": "fUE70Se4Ln32"
   },
   "outputs": [],
   "source": [
    "# replacing all the special characters and numbers with empty string\n",
    "\n",
    "blog['text'] = blog['text'].fillna('').astype(str).str.replace(r'[^A-Za-z ]', '', regex=True).replace('', np.nan, regex=False)"
   ]
  },
  {
   "cell_type": "code",
   "execution_count": 16,
   "metadata": {
    "id": "R53Xs-P2yVbW"
   },
   "outputs": [],
   "source": [
    "# creating a new dataframe where the column text do not have empty spaces\n",
    "blog['isspace'] = blog['text'].apply(lambda x: x.isspace())\n",
    "\n",
    "blog_new = blog[blog['isspace']==False]"
   ]
  },
  {
   "cell_type": "markdown",
   "metadata": {
    "id": "xYDx3KD_Ph5l"
   },
   "source": [
    "We will sample the 7000 records from the dataset as Algorithms such as Logistic Regression, Knn, Langdetect and the vectorizer need enormous RAM space."
   ]
  },
  {
   "cell_type": "code",
   "execution_count": 17,
   "metadata": {
    "id": "Zid0CTzxzDrl"
   },
   "outputs": [],
   "source": [
    "# sampling the 7000 records from the huge dataset\n",
    "\n",
    "blog_sample = blog_new.sample(n=7000,random_state = 2)"
   ]
  },
  {
   "cell_type": "code",
   "execution_count": 18,
   "metadata": {
    "id": "OUrjQTYMkdPU"
   },
   "outputs": [],
   "source": [
    "# creating a new column to detect the language of each row\n",
    "\n",
    "blog_sample['textreveiw'] = blog_sample['text'].apply(detect)"
   ]
  },
  {
   "cell_type": "code",
   "execution_count": 19,
   "metadata": {
    "id": "nqnU_uur6yDZ"
   },
   "outputs": [],
   "source": [
    "# filtering only the english sentences for modelling\n",
    "\n",
    "blog_english = blog_sample[blog_sample['textreveiw'] == 'en']"
   ]
  },
  {
   "cell_type": "code",
   "execution_count": 20,
   "metadata": {
    "id": "Ox75bU49kIkj"
   },
   "outputs": [],
   "source": [
    "# Convert text to lowercase\n",
    "blog_english.text = blog_english.text.apply(lambda x: x.lower())\n",
    "\n",
    "# remove the urllink\n",
    "blog_english.text = blog_english.text.replace(to_replace=r'urllink',value = '',regex=True)\n",
    "\n",
    "# Strip unwanted spaces\n",
    "blog_english.text = blog_english.text.apply(lambda x: x.strip())\n",
    "\n",
    "# remove stop words\n",
    "blog_english.text = blog_english.text.apply(lambda x: ' '.join([word for word in x.split() if word not in stopwords]))\n"
   ]
  },
  {
   "cell_type": "code",
   "execution_count": 21,
   "metadata": {
    "id": "778oTJfwIBuN"
   },
   "outputs": [],
   "source": [
    "# defining a function to calculate the accuracy, precision and recall\n",
    "\n",
    "def metrics(model,X_train,y_train,y_test,y_pred):\n",
    "  print(\"The training accuracy is:\",model.score(X_train,y_train))\n",
    "  print(\"The test accuracy is:\",accuracy_score(y_test,y_pred))\n",
    "  print(\"The precision score is: \",precision_score(y_test,y_pred,average='weighted',labels=np.unique(y_pred)))\n",
    "  print(\"The recall score is: \",recall_score(y_test,y_pred,average='weighted',labels=np.unique(y_pred)))"
   ]
  },
  {
   "cell_type": "code",
   "execution_count": 22,
   "metadata": {
    "id": "BTVXtxcj8AAi"
   },
   "outputs": [],
   "source": [
    "# splitting the data into dependent and independent variable\n",
    "\n",
    "X  = blog_english['text']\n",
    "y = blog_english['topic']"
   ]
  },
  {
   "cell_type": "code",
   "execution_count": 23,
   "metadata": {
    "id": "ZCvn_zvN8ADP"
   },
   "outputs": [],
   "source": [
    "# splitting the data into train and test set\n",
    "\n",
    "X_train,X_test,y_train,y_test = train_test_split(X,y,test_size = 0.20,random_state=2)"
   ]
  },
  {
   "cell_type": "code",
   "execution_count": 24,
   "metadata": {
    "id": "Y5VH6jRT8AGD"
   },
   "outputs": [],
   "source": [
    "# transforming X_train and X_test using bi-grams\n",
    "\n",
    "vectorizer = CountVectorizer(ngram_range=(1, 2))\n",
    "vectorizer.fit(X)\n",
    "X_train_bow = vectorizer.transform(X_train)\n",
    "X_test_bow = vectorizer.transform(X_test)"
   ]
  },
  {
   "cell_type": "code",
   "execution_count": 25,
   "metadata": {
    "id": "Qy7hCgjlBYo-"
   },
   "outputs": [],
   "source": [
    "# transforming X_train and X_test using count vectorizer with max feature 5000\n",
    "\n",
    "vectorizer_5000 = CountVectorizer(max_features=5000)\n",
    "vectorizer_5000.fit(X)\n",
    "X_train_5k = vectorizer_5000.transform(X_train)\n",
    "X_test_5k = vectorizer_5000.transform(X_test)"
   ]
  },
  {
   "cell_type": "code",
   "execution_count": 26,
   "metadata": {
    "id": "-Z-MOyHBEmGG"
   },
   "outputs": [],
   "source": [
    "# transforming the data using glove 300D vectors\n",
    "\n",
    "embeddings_index_prj1 = {}\n",
    "glove = open('/content/drive/MyDrive/NLP/Wee_3 Assignment/glove.6B.300d.txt')\n",
    "for line in glove:\n",
    "  values = line.split()\n",
    "  word = values[0]\n",
    "  coefs = np.asarray(values[1:], dtype='float32')\n",
    "  embeddings_index_prj1[word] = coefs\n",
    "glove.close()\n",
    "\n",
    "def sentence_to_words(comp):\n",
    "    \n",
    "    words = RegexpTokenizer('\\w+').tokenize(comp)\n",
    "    \n",
    "    return words\n",
    "\n",
    "data_list = list()\n",
    "for comp in blog_english.text:\n",
    "    sentence = np.zeros(300)\n",
    "    count = 0\n",
    "    for w in sentence_to_words(comp):\n",
    "        try:\n",
    "            sentence += embeddings_index_prj1[w]\n",
    "            count += 1\n",
    "        except KeyError:\n",
    "            continue\n",
    "    data_list.append(sentence / count)"
   ]
  },
  {
   "cell_type": "code",
   "execution_count": 27,
   "metadata": {
    "id": "MhifYN0ZBCQB"
   },
   "outputs": [],
   "source": [
    "# transforming X_train and X_test using TF-IDF vectorizer\n",
    "\n",
    "tf_idf = TfidfVectorizer(max_features=5000)\n",
    "tf_idf.fit(X)\n",
    "X_train_tf = tf_idf.transform(X_train)\n",
    "X_test_tf = tf_idf.transform(X_test)"
   ]
  },
  {
   "cell_type": "code",
   "execution_count": 28,
   "metadata": {
    "colab": {
     "base_uri": "https://localhost:8080/"
    },
    "id": "vH5VBoDR9IK5",
    "outputId": "11fe13f9-e430-45e2-ac28-207f95e2f485"
   },
   "outputs": [
    {
     "name": "stdout",
     "output_type": "stream",
     "text": [
      "The metrics of the Logistic Regression using Bi-Grams:\n",
      "====================================================================================================\n",
      "The training accuracy is: 0.9926172019195275\n",
      "The test accuracy is: 0.35424354243542433\n",
      "The precision score is:  0.27171525584941\n",
      "The recall score is:  0.40302267002518893\n"
     ]
    }
   ],
   "source": [
    "lr = LogisticRegression(random_state=2)\n",
    "lr.fit(X_train_bow,y_train)\n",
    "y_pred_lr_bow = lr.predict(X_test_bow)\n",
    "print(\"The metrics of the Logistic Regression using Bi-Grams:\")\n",
    "print(\"==\"*50)\n",
    "metrics(lr,X_train_bow,y_train,y_test,y_pred_lr_bow)"
   ]
  },
  {
   "cell_type": "code",
   "execution_count": 29,
   "metadata": {
    "colab": {
     "base_uri": "https://localhost:8080/"
    },
    "id": "mqnSMP6hBYrm",
    "outputId": "38fc25bc-c551-4320-f644-8189cc8d2525"
   },
   "outputs": [
    {
     "name": "stdout",
     "output_type": "stream",
     "text": [
      "The metrics of the Logistic Regression using Count Vectorizer:\n",
      "====================================================================================================\n",
      "The training accuracy is: 0.9400147655961609\n",
      "The test accuracy is: 0.3107011070110701\n",
      "The precision score is:  0.2552215722347405\n",
      "The recall score is:  0.331496062992126\n"
     ]
    }
   ],
   "source": [
    "lr_5k = LogisticRegression(random_state=2)\n",
    "lr_5k.fit(X_train_5k,y_train)\n",
    "y_pred_5k = lr_5k.predict(X_test_5k)\n",
    "print(\"The metrics of the Logistic Regression using Count Vectorizer:\")\n",
    "print(\"==\"*50)\n",
    "metrics(lr_5k,X_train_5k,y_train,y_test,y_pred_5k)"
   ]
  },
  {
   "cell_type": "code",
   "execution_count": 30,
   "metadata": {
    "colab": {
     "base_uri": "https://localhost:8080/"
    },
    "id": "_yUfhuddIRWM",
    "outputId": "51505ba7-2641-48af-934d-ca3adeabc014"
   },
   "outputs": [
    {
     "name": "stdout",
     "output_type": "stream",
     "text": [
      "The metrics of the Logistic Regression using GLOVE Vectorizer:\n",
      "====================================================================================================\n",
      "The training accuracy is: 0.4194893173527879\n",
      "The test accuracy is: 0.33858267716535434\n",
      "The precision score is:  0.2600404592760032\n",
      "The recall score is:  0.3922462941847206\n"
     ]
    }
   ],
   "source": [
    "X_train_glove, X_test_glove, y_train_glove, y_test_glove = train_test_split(np.array(data_list), blog_english.topic, \n",
    "    test_size=0.15, random_state=0)\n",
    "\n",
    "X_train_glove = np.nan_to_num(X_train_glove)\n",
    "X_test_glove = np.nan_to_num(X_test_glove)\n",
    "\n",
    "clf=LogisticRegression(random_state=2)\n",
    "clf.fit(X_train_glove, y_train_glove)\n",
    "pred = clf.predict(X_test_glove)\n",
    "print(\"The metrics of the Logistic Regression using GLOVE Vectorizer:\")\n",
    "print(\"==\"*50)\n",
    "metrics(clf,X_train_glove,y_train_glove,y_test_glove,pred)"
   ]
  },
  {
   "cell_type": "code",
   "execution_count": 31,
   "metadata": {
    "colab": {
     "base_uri": "https://localhost:8080/"
    },
    "id": "34o4NBtrBCS8",
    "outputId": "623b9066-ad07-4446-d2c3-dafb0e3887bc"
   },
   "outputs": [
    {
     "name": "stdout",
     "output_type": "stream",
     "text": [
      "The metrics of the Logistic Regression using TF-IDF Vectorizer:\n",
      "====================================================================================================\n",
      "The training accuracy is: 0.508859357696567\n",
      "The test accuracy is: 0.3800738007380074\n",
      "The precision score is:  0.3706451571410111\n",
      "The recall score is:  0.6350184956843403\n"
     ]
    }
   ],
   "source": [
    "lr_tf = LogisticRegression(random_state=2)\n",
    "lr_tf.fit(X_train_tf,y_train)\n",
    "y_pred_tf = lr_tf.predict(X_test_tf)\n",
    "print(\"The metrics of the Logistic Regression using TF-IDF Vectorizer:\")\n",
    "print(\"==\"*50)\n",
    "metrics(lr_tf,X_train_tf,y_train,y_test,y_pred_tf)"
   ]
  },
  {
   "cell_type": "markdown",
   "metadata": {
    "id": "UuijmqiwfYHX"
   },
   "source": [
    "* **We can see that the Logistic Regression trained on bi-grams is overfitting. The training accuracy is far greater than the testing accuracy**\n",
    "\n",
    "* **We have used the count vectorizer with max features of 5000 on our logistics regression. We can see that this model is also overfitting. The training accuracy is slightly less than the Bi-grams but it is still overfitting.**\n",
    "\n",
    "* **In the third method we have tried using the GLOVE vectors for our prediction. The glove vectors are performing better thant the bi-grams and the count vectorizer. It does not overfit the data. The precision and recall is better than the above two methods**\n",
    "\n",
    "* **At last we have tried the TF-IDF vectorizer on logistic regression. This algorithm doesn't overfit our model too much as like the previous method. This vectorizer is the best to use as it gives the highest precision, recall and testing accuracy. We will use this TF-IDF vectorizer on multiple models to see which one gives the best training and test accuracy.**"
   ]
  },
  {
   "cell_type": "code",
   "execution_count": 33,
   "metadata": {
    "id": "lrOmOBfpDBVc"
   },
   "outputs": [],
   "source": [
    "del X_train_glove,y_train_glove,y_test_glove,X_test_glove"
   ]
  },
  {
   "cell_type": "markdown",
   "metadata": {
    "id": "1_-HMQ9mH5wb"
   },
   "source": [
    "# MODEL BUILDING"
   ]
  },
  {
   "cell_type": "code",
   "execution_count": 36,
   "metadata": {
    "colab": {
     "base_uri": "https://localhost:8080/"
    },
    "id": "ejuxj1YXDBeZ",
    "outputId": "315239fb-b4cc-4abb-defc-17d8c5585ee8"
   },
   "outputs": [
    {
     "name": "stdout",
     "output_type": "stream",
     "text": [
      "The metrics of the SVC using TF-IDF Vectorizer:\n",
      "====================================================================================================\n",
      "The training accuracy is: 0.6160944998154301\n",
      "The test accuracy is: 0.3918819188191882\n",
      "The precision score is:  0.40378228532868543\n",
      "The recall score is:  0.654747225647349\n"
     ]
    }
   ],
   "source": [
    "# using SVC on the TF-IDF vectorizer\n",
    "\n",
    "svc = SVC(random_state=2)\n",
    "svc.fit(X_train_tf,y_train)\n",
    "svc_y_pred = svc.predict(X_test_tf)\n",
    "print(\"The metrics of the SVC using TF-IDF Vectorizer:\")\n",
    "print(\"==\"*50)\n",
    "metrics(svc,X_train_tf,y_train,y_test,svc_y_pred)"
   ]
  },
  {
   "cell_type": "code",
   "execution_count": null,
   "metadata": {
    "id": "WtTvYYq1hhSN"
   },
   "outputs": [],
   "source": []
  },
  {
   "cell_type": "code",
   "execution_count": 37,
   "metadata": {
    "colab": {
     "base_uri": "https://localhost:8080/"
    },
    "id": "6dAmN_LcwnXy",
    "outputId": "3c268e4f-cae7-4ade-cb95-491b0d09cbae"
   },
   "outputs": [
    {
     "name": "stdout",
     "output_type": "stream",
     "text": [
      "The metrics of the Naive Bayes using TF-IDF Vectorizer:\n",
      "====================================================================================================\n",
      "The training accuracy is: 0.4289405684754522\n",
      "The test accuracy is: 0.385239852398524\n",
      "The precision score is:  0.3830319893872278\n",
      "The recall score is:  0.6436498150431565\n"
     ]
    }
   ],
   "source": [
    "# using naive bayes on the TF-IDF vectorizer\n",
    "\n",
    "nb = MultinomialNB()\n",
    "nb.fit(X_train_tf.toarray(),y_train)\n",
    "nb_y_pred = nb.predict(X_test_tf.toarray())\n",
    "print(\"The metrics of the Naive Bayes using TF-IDF Vectorizer:\")\n",
    "print(\"==\"*50)\n",
    "metrics(nb,X_train_tf,y_train,y_test,nb_y_pred)"
   ]
  },
  {
   "cell_type": "code",
   "execution_count": null,
   "metadata": {
    "id": "8oFqEl52IZmr"
   },
   "outputs": [],
   "source": []
  },
  {
   "cell_type": "code",
   "execution_count": 38,
   "metadata": {
    "colab": {
     "base_uri": "https://localhost:8080/"
    },
    "id": "SCQoPQwuDvsW",
    "outputId": "dba71166-51f2-403b-85e2-29794ca37cf1"
   },
   "outputs": [
    {
     "name": "stdout",
     "output_type": "stream",
     "text": [
      "The metrics of the KNN using TF-IDF Vectorizer:\n",
      "====================================================================================================\n",
      "The training accuracy is: 0.45016611295681064\n",
      "The test accuracy is: 0.2878228782287823\n",
      "The precision score is:  0.2310339602403936\n",
      "The recall score is:  0.3397212543554007\n"
     ]
    }
   ],
   "source": [
    "# using KNN on the TF-IDF vectorizer\n",
    "\n",
    "knn = KNeighborsClassifier(n_jobs = -1,n_neighbors=7)\n",
    "knn.fit(X_train_tf,y_train)\n",
    "knn_y_pred = knn.predict(X_test_tf)\n",
    "print(\"The metrics of the KNN using TF-IDF Vectorizer:\")\n",
    "print(\"==\"*50)\n",
    "metrics(knn,X_train_tf,y_train,y_test,knn_y_pred)"
   ]
  },
  {
   "cell_type": "code",
   "execution_count": null,
   "metadata": {
    "id": "Im5l54-fEirS"
   },
   "outputs": [],
   "source": []
  },
  {
   "cell_type": "code",
   "execution_count": 39,
   "metadata": {
    "colab": {
     "base_uri": "https://localhost:8080/"
    },
    "id": "hD3TfpDav4MU",
    "outputId": "638f9cb1-b3a5-4bd7-c9a8-aabfe3d04a0a"
   },
   "outputs": [
    {
     "name": "stdout",
     "output_type": "stream",
     "text": [
      "The metrics of the Decision Tree using TF-IDF Vectorizer:\n",
      "====================================================================================================\n",
      "The training accuracy is: 0.9948320413436692\n",
      "The test accuracy is: 0.23690036900369005\n",
      "The precision score is:  0.20803404754283392\n",
      "The recall score is:  0.23760177646188008\n"
     ]
    }
   ],
   "source": [
    "# using Decision Tree on the TF-IDF vectorizer\n",
    "\n",
    "dectree = DecisionTreeClassifier(random_state=10)\n",
    "dectree.fit(X_train_tf,y_train)\n",
    "dectree_y_pred = dectree.predict(X_test_tf)\n",
    "print(\"The metrics of the Decision Tree using TF-IDF Vectorizer:\")\n",
    "print(\"==\"*50)\n",
    "metrics(dectree,X_train_tf,y_train,y_test,dectree_y_pred)"
   ]
  },
  {
   "cell_type": "code",
   "execution_count": null,
   "metadata": {
    "id": "Dm1lqt8jhHnG"
   },
   "outputs": [],
   "source": []
  },
  {
   "cell_type": "code",
   "execution_count": 40,
   "metadata": {
    "colab": {
     "base_uri": "https://localhost:8080/"
    },
    "id": "b6TX7iUuEit3",
    "outputId": "e0cbbdb3-1206-4970-fac2-5ea04c8aac08"
   },
   "outputs": [
    {
     "name": "stdout",
     "output_type": "stream",
     "text": [
      "The metrics of the Random Forest using TF-IDF Vectorizer:\n",
      "====================================================================================================\n",
      "The training accuracy is: 0.9948320413436692\n",
      "The test accuracy is: 0.3756457564575646\n",
      "The precision score is:  0.3215394212684645\n",
      "The recall score is:  0.5009842519685039\n"
     ]
    }
   ],
   "source": [
    "# using Random Forest on the TF-IDF vectorizer\n",
    "\n",
    "rf = RandomForestClassifier(n_jobs=-1,random_state=2)\n",
    "rf.fit(X_train_tf,y_train)\n",
    "rf_y_pred = rf.predict(X_test_tf)\n",
    "print(\"The metrics of the Random Forest using TF-IDF Vectorizer:\")\n",
    "print(\"==\"*50)\n",
    "metrics(rf,X_train_tf,y_train,y_test,rf_y_pred)"
   ]
  },
  {
   "cell_type": "code",
   "execution_count": null,
   "metadata": {
    "id": "sAAfTxWhEV92"
   },
   "outputs": [],
   "source": []
  },
  {
   "cell_type": "code",
   "execution_count": 41,
   "metadata": {
    "colab": {
     "base_uri": "https://localhost:8080/"
    },
    "id": "APV5Ik9OFELG",
    "outputId": "e4374a22-b727-41e7-c133-9b52ca6a348e"
   },
   "outputs": [
    {
     "name": "stdout",
     "output_type": "stream",
     "text": [
      "The metrics of the Gradient Boosting using TF-IDF Vectorizer:\n",
      "====================================================================================================\n",
      "The training accuracy is: 0.7831303063861204\n",
      "The test accuracy is: 0.2915129151291513\n",
      "The precision score is:  0.24024134430454377\n",
      "The recall score is:  0.2915129151291513\n"
     ]
    }
   ],
   "source": [
    "# using Gradient boosting on the TF-IDF vectorizer\n",
    "\n",
    "gtree = GradientBoostingClassifier(random_state=5)\n",
    "gtree.fit(X_train_tf,y_train)\n",
    "gtree_y_pred = gtree.predict(X_test_tf)\n",
    "print(\"The metrics of the Gradient Boosting using TF-IDF Vectorizer:\")\n",
    "print(\"==\"*50)\n",
    "metrics(gtree,X_train_tf,y_train,y_test,gtree_y_pred)"
   ]
  },
  {
   "cell_type": "code",
   "execution_count": null,
   "metadata": {
    "id": "5QzUQa-NFtA8"
   },
   "outputs": [],
   "source": []
  },
  {
   "cell_type": "code",
   "execution_count": 42,
   "metadata": {
    "colab": {
     "base_uri": "https://localhost:8080/"
    },
    "id": "HFXRWNUen99G",
    "outputId": "1f2b8699-de2a-44db-e756-56d7638cf2e8"
   },
   "outputs": [
    {
     "name": "stdout",
     "output_type": "stream",
     "text": [
      "The metrics of the Ada Boosting using TF-IDF Vectorizer:\n",
      "====================================================================================================\n",
      "The training accuracy is: 0.3663713547434478\n",
      "The test accuracy is: 0.38228782287822877\n",
      "The precision score is:  0.35934165262732837\n",
      "The recall score is:  0.6387176325524044\n"
     ]
    }
   ],
   "source": [
    "# using Adaboost on the TF-IDF vectorizer\n",
    "\n",
    "ada = AdaBoostClassifier(random_state=10)\n",
    "ada.fit(X_train_tf,y_train)\n",
    "ada_y_pred = ada.predict(X_test_tf)\n",
    "print(\"The metrics of the Ada Boosting using TF-IDF Vectorizer:\")\n",
    "print(\"==\"*50)\n",
    "metrics(ada,X_train_tf,y_train,y_test,ada_y_pred)"
   ]
  },
  {
   "cell_type": "code",
   "execution_count": null,
   "metadata": {
    "id": "mtShzduunrKV"
   },
   "outputs": [],
   "source": []
  },
  {
   "cell_type": "code",
   "execution_count": 43,
   "metadata": {
    "colab": {
     "base_uri": "https://localhost:8080/"
    },
    "id": "V7vP0K0xwnHE",
    "outputId": "d7eb10c0-e297-48f2-eddd-eaddaccfed5f"
   },
   "outputs": [
    {
     "name": "stdout",
     "output_type": "stream",
     "text": [
      "The metrics of the Bagging using TF-IDF Vectorizer:\n",
      "====================================================================================================\n",
      "The training accuracy is: 0.9815430047988187\n",
      "The test accuracy is: 0.3210332103321033\n",
      "The precision score is:  0.2556097181228432\n",
      "The recall score is:  0.3649328859060403\n"
     ]
    }
   ],
   "source": [
    "# using Bagging on the TF-IDF vectorizer\n",
    "\n",
    "bag = BaggingClassifier(random_state=10,n_jobs=-1)\n",
    "bag.fit(X_train_tf,y_train)\n",
    "bag_y_pred = bag.predict(X_test_tf)\n",
    "print(\"The metrics of the Bagging using TF-IDF Vectorizer:\")\n",
    "print(\"==\"*50)\n",
    "metrics(bag,X_train_tf,y_train,y_test,bag_y_pred)"
   ]
  },
  {
   "cell_type": "markdown",
   "metadata": {
    "id": "x1IEhRiZSpi8"
   },
   "source": [
    "* **I have only considered Naive Bayes and Adaboost classifier for Fine tuning because their train,test accuracy are the ones that are promising which can be used in production**"
   ]
  },
  {
   "cell_type": "code",
   "execution_count": 44,
   "metadata": {
    "colab": {
     "base_uri": "https://localhost:8080/"
    },
    "id": "tbhRS-yrcwxr",
    "outputId": "fc5b446d-1ea2-49fd-b8ae-022755f617a8"
   },
   "outputs": [
    {
     "name": "stdout",
     "output_type": "stream",
     "text": [
      "Best hyper parameter: {'alpha': 1}\n",
      "The metrics of the Naive Bayes using TF-IDF Vectorizer:\n",
      "====================================================================================================\n",
      "The training accuracy is: 0.4289405684754522\n",
      "The test accuracy is: 0.385239852398524\n",
      "The precision score is:  0.3830319893872278\n",
      "The recall score is:  0.6436498150431565\n"
     ]
    }
   ],
   "source": [
    "grid_nb = GridSearchCV(MultinomialNB(),\n",
    "                       param_grid ={'alpha': [1, 0.1, 0.01, 0.001, 0.0001, 0.00001]},\n",
    "                       cv = 5,n_jobs = -1)\n",
    "grid_nb.fit(X_train_tf, y_train)\n",
    "y_pred_grid_nb = grid_nb.predict(X_test_tf)\n",
    "print('Best hyper parameter:', grid_nb.best_params_)\n",
    "print(\"The metrics of the Naive Bayes using TF-IDF Vectorizer:\")\n",
    "print(\"==\"*50)\n",
    "metrics(grid_nb,X_train_tf,y_train,y_test,y_pred_grid_nb)"
   ]
  },
  {
   "cell_type": "code",
   "execution_count": null,
   "metadata": {
    "id": "13o7zYWbhdQW"
   },
   "outputs": [],
   "source": []
  },
  {
   "cell_type": "code",
   "execution_count": 45,
   "metadata": {
    "colab": {
     "base_uri": "https://localhost:8080/"
    },
    "id": "neX3UTaAx_fz",
    "outputId": "a23e293d-cf7c-447a-8f08-6218f56af639"
   },
   "outputs": [
    {
     "name": "stdout",
     "output_type": "stream",
     "text": [
      "Best hyper parameter: {'learning_rate': 0.2, 'n_estimators': 40}\n",
      "The metrics of the Ada boosting using TF-IDF Vectorizer:\n",
      "====================================================================================================\n",
      "The training accuracy is: 0.3648947951273533\n",
      "The test accuracy is: 0.3837638376383764\n",
      "The precision score is:  0.38331013248581725\n",
      "The recall score is:  0.9980806142034548\n"
     ]
    }
   ],
   "source": [
    "grid_boosting = GridSearchCV(AdaBoostClassifier(random_state=5),\n",
    "                    param_grid={'n_estimators': [10, 15, 20, 25, 30,35,40,45,50],\n",
    "                                'learning_rate':[0.001,0.01,0.1,0.2,0.5]}, \n",
    "                    cv=5, n_jobs=-1)\n",
    "grid_boosting.fit(X_train_tf, y_train)\n",
    "y_pred_grid_boosting = grid_boosting.predict(X_test_tf)\n",
    "print('Best hyper parameter:', grid_boosting.best_params_)\n",
    "print(\"The metrics of the Ada boosting using TF-IDF Vectorizer:\")\n",
    "print(\"==\"*50)\n",
    "metrics(grid_boosting,X_train_tf,y_train,y_test,y_pred_grid_boosting)\n"
   ]
  },
  {
   "cell_type": "markdown",
   "metadata": {
    "id": "DNh9oPY0iK8g"
   },
   "source": [
    "* **Out of all the classifiers Multinomial NB and Adaboost high test accuracy. The ideal model which can be used for production is AdaBoost classifier with train and test accuracy of 0.36 and 0.38 which means that the model does not overfit on the data. The model is underfitting because we have used only a sample of the data due to the memory constraint. The AdaBoost classifier has a better precision and recall score too.**"
   ]
  },
  {
   "cell_type": "code",
   "execution_count": null,
   "metadata": {
    "id": "prAN4U9NivdR"
   },
   "outputs": [],
   "source": []
  },
  {
   "cell_type": "markdown",
   "metadata": {
    "id": "PgGTtAe3UwiI"
   },
   "source": [
    "* **The vectorizer which performed the best was the TF-IDF vectorizer. This is because it gives more importance to the words which do not occur frequently and gives more weightage. The Bi-Gram did not perform well as they would have more weightage that occurs frequently.**\n",
    "\n",
    "* **The Adaboost classifier outperformed all the other models. The probable reason behind this is that the boosting algorithm give more importance to the errors in which the previous classifier poorly performed.**\n",
    "\n",
    "\n",
    "* **The hyperparameter which was used to reduce the overfitting was the n_estimators and the learning rate. The no of estimators after a certain limit do not lead to the increase in performace. The learning rate being low helped the algorithm learn the misclassified points and correct them to a certain extent.**\n",
    "\n",
    "* **The performance metric that should be given the most importance is Precision. This classification of text of blogs is not a life threatning problem or a problem where we don't need to concentrate on minimizing the False negative. Thus Precision is the ideal performance metric that should be used as it utilizes True positive and false positive.**"
   ]
  },
  {
   "cell_type": "code",
   "execution_count": null,
   "metadata": {
    "id": "vYNRaDhJIBaV"
   },
   "outputs": [],
   "source": []
  },
  {
   "cell_type": "markdown",
   "metadata": {
    "id": "uaS3TdL7lujZ"
   },
   "source": [
    "**PART-B**\n",
    "\n",
    "* DOMAIN: Customer support\n",
    "\n",
    "* CONTEXT: Great Learning has a an academic support department which receives numerous support requests every day throughout the year.\n",
    "Teams are spread across geographies and try to provide support round the year. Sometimes there are circumstances where due to heavy\n",
    "workload certain request resolutions are delayed, impacting company’s business. Some of the requests are very generic where a proper\n",
    "resolution procedure delivered to the user can solve the problem. Company is looking forward to design an automation which can interact with\n",
    "the user, understand the problem and display the resolution procedure [ if found as a generic request ] or redirect the request to an actual human\n",
    "support executive if the request is complex or not in it’s database."
   ]
  },
  {
   "cell_type": "code",
   "execution_count": 47,
   "metadata": {
    "id": "1dor1-1SommV"
   },
   "outputs": [],
   "source": [
    "# creating object for text data augmentation\n",
    "\n",
    "aug = naw.SynonymAug(aug_src='wordnet', model_path=None, name='Synonym_Aug', aug_min=1, aug_max=10, aug_p=0.2, lang='eng', \n",
    "                     stopwords=stopwords, tokenizer=None, reverse_tokenizer=None, stopwords_regex=None, force_reload=False, \n",
    "                     verbose=0)\n",
    "\n",
    "aug_del = naw.RandomWordAug(action='delete', name='RandomWord_Aug', aug_min=1, aug_max=10, aug_p=0.3, stopwords=None, \n",
    "                        target_words=None, tokenizer=None, reverse_tokenizer=None, stopwords_regex=None, verbose=0)"
   ]
  },
  {
   "cell_type": "code",
   "execution_count": 48,
   "metadata": {
    "id": "Emm0WNFZ5fAU"
   },
   "outputs": [],
   "source": [
    "# using text data augmentation to add more data to the corpus\n",
    "\n",
    "svm_sent = aug.augment(\"unable to understand svm\",n=10)\n",
    "nb_sent = aug.augment(\"unable to understand naive bayes\",n=10)\n",
    "lr_sent = aug.augment(\"unable to understand logistic regression\",n=10)\n",
    "ensemble_sent = aug.augment(\"unable to understand ensemble techniques\",n=10)\n",
    "knn_sent = aug.augment(\"unable to understand knn\",n=10)\n",
    "cross_sent = aug.augment(\"unable to understand cross validation\",n=10)\n",
    "boosting_sent = aug.augment(\"unable to understand boosting\",n=10)\n",
    "rf_sent = aug.augment(\"unable to understand random forest\",n=10)\n",
    "ada_sent = aug.augment(\"unable to understand ada boosting\",n=10)\n",
    "grad_sent = aug.augment(\"unable to understand gradient boosting\",n=10)\n",
    "class_sent = aug.augment(\"unable to understand classification\",n=10)\n",
    "\n",
    "work_sent = aug.augment(\"work hour\",5)\n",
    "work_sent.append(\"work\")\n",
    "work_sent.append(\"work hour\")\n",
    "\n",
    "oly_sent = aug.augment(\"help with olympus\",5)\n",
    "oly_sent.append(\"help with olympus\")\n",
    "oly_sent.extend(aug.augment(\"teach olympus\",5))\n",
    "\n",
    "nn_sent = aug.augment(\"not able to understand ann\",5)\n",
    "nn_sent.extend(aug.augment(\"not able to understand artificial intelligence\",5))\n",
    "nn_sent.extend(aug.augment(\"not able to understand neural networks\",5))\n",
    "nn_sent.append(\"neural network\")\n",
    "nn_sent.extend(aug.augment(\"not able to understand neural network\",5))\n",
    "nn_sent.extend(aug.augment(\"not able understand weights\",5))\n",
    "nn_sent.extend(aug.augment(\"unable to understand activation function\",5))\n",
    "nn_sent.extend(aug.augment(\"unable to understand hidden layer\",5))\n",
    "nn_sent.extend(aug.augment(\"unable to understand softmax\",5))\n",
    "nn_sent.extend(aug.augment(\"not able understand to sigmoid\",5))\n",
    "nn_sent.extend(aug.augment(\"not able understand to relu\",5))\n",
    "nn_sent.extend(aug.augment(\"unable understand to optimizer\",5))\n",
    "nn_sent.extend(aug.augment(\"not able to understand forward propagation\",5))\n",
    "nn_sent.append(\"what is backward propagation\")\n",
    "nn_sent.extend(aug.augment(\"what is epochs\",5))\n",
    "nn_sent.extend(aug.augment(\"what is epoch\",5))\n",
    "nn_sent.extend(aug.augment(\"unable to undertand sgd\",5))\n",
    "\n",
    "profane_sent = aug.augment(\"hate you\",5)\n",
    "profane_sent.append(\"hate you\")\n",
    "profane_sent.extend(aug.augment(\"stupid\",3))\n",
    "profane_sent.append(\"stupid\")\n",
    "profane_sent.extend(aug_del.augment(\"do you think you are very smart\",5))\n",
    "profane_sent.extend(aug.augment(\"idiot\",3))\n",
    "profane_sent.append(\"idiot\")\n",
    "\n",
    "intro_sent = aug.augment(\"im learner\",3)\n",
    "intro_sent.extend(aug_del.augment(\"please help me\",3))"
   ]
  },
  {
   "cell_type": "code",
   "execution_count": 49,
   "metadata": {
    "id": "HRVrMiYOqvBt"
   },
   "outputs": [],
   "source": [
    "# combining the same categories to one list\n",
    "\n",
    "from itertools import chain\n",
    "res_list = list(chain(svm_sent, nb_sent, lr_sent,ensemble_sent,knn_sent,cross_sent,boosting_sent,rf_sent,ada_sent,grad_sent,class_sent))"
   ]
  },
  {
   "cell_type": "code",
   "execution_count": 50,
   "metadata": {
    "id": "0yx2dpTssBt3"
   },
   "outputs": [],
   "source": [
    "# creating seperate dataframe for different categories\n",
    "\n",
    "aug_data= pd.DataFrame({\"Text\":res_list,\"Target\":[\"SL\"] * len(res_list)})\n",
    "aug_work = pd.DataFrame({\"Text\":work_sent,\"Target\":[\"Bot\"] * len(work_sent)})\n",
    "aug_oly = pd.DataFrame({\"Text\":oly_sent,\"Target\":[\"Olympus\"] * len(oly_sent)})\n",
    "aug_nn = pd.DataFrame({\"Text\":nn_sent,\"Target\":[\"NN\"] * len(nn_sent)})\n",
    "aug_profane = pd.DataFrame({\"Text\":profane_sent,\"Target\":[\"Profane\"] * len(profane_sent)})\n",
    "aug_intro = pd.DataFrame({\"Text\":intro_sent,\"Target\":[\"Intro\"] * len(intro_sent)})\n",
    "\n",
    "# creating a dataframe for all the augemented data\n",
    "aug_bot = pd.concat([aug_data,aug_work,aug_oly,aug_nn,aug_profane,aug_intro])"
   ]
  },
  {
   "cell_type": "code",
   "execution_count": 51,
   "metadata": {
    "colab": {
     "base_uri": "https://localhost:8080/"
    },
    "id": "0v4_ReAgBx-n",
    "outputId": "df13ffe2-3917-4447-805d-9ab9c30cbab4"
   },
   "outputs": [
    {
     "data": {
      "text/plain": [
       "<function TextIOWrapper.close>"
      ]
     },
     "execution_count": 51,
     "metadata": {},
     "output_type": "execute_result"
    }
   ],
   "source": [
    "# loading the corpus from json file\n",
    "\n",
    "f = open ('/content/drive/MyDrive/NLP/Wee_3 Assignment/GL Bot.json', \"r\")\n",
    " \n",
    "# Reading from file\n",
    "data = json.loads(f.read())\n",
    "\n",
    "f.close"
   ]
  },
  {
   "cell_type": "code",
   "execution_count": 52,
   "metadata": {
    "id": "dnAp77W6mfn1"
   },
   "outputs": [],
   "source": [
    "# tokenizing the data from the corpus\n",
    "\n",
    "W = []\n",
    "L = []\n",
    "doc_x = []\n",
    "doc_y = []\n",
    "\n",
    "for intent in data['intents']:\n",
    "  for pattern in intent['patterns']:\n",
    "    w_temp = nltk.word_tokenize(pattern)\n",
    "    W.extend(w_temp)\n",
    "    doc_x.append(w_temp)\n",
    "    doc_y.append(intent[\"tag\"])\n",
    "\n",
    "  if intent['tag'] not in L:\n",
    "    L.append(intent['tag'])"
   ]
  },
  {
   "cell_type": "code",
   "execution_count": 53,
   "metadata": {
    "id": "9bQLuWnJx-MR"
   },
   "outputs": [],
   "source": [
    "# tokenizing the augmented dataframe\n",
    "\n",
    "aug_bot['Text'] = aug_bot['Text'].apply(lambda x: nltk.word_tokenize(x))"
   ]
  },
  {
   "cell_type": "code",
   "execution_count": 54,
   "metadata": {
    "id": "rT2JzBydAVT3"
   },
   "outputs": [],
   "source": [
    "# creating a dataframe for the original corpus\n",
    "\n",
    "bot = pd.DataFrame({'Text':doc_x,\n",
    "     'Target':doc_y\n",
    "    })"
   ]
  },
  {
   "cell_type": "code",
   "execution_count": 55,
   "metadata": {
    "id": "eb7jSH6ByeiK"
   },
   "outputs": [],
   "source": [
    "# combining both the dataframe\n",
    "\n",
    "bot_final = pd.concat([bot,aug_bot])"
   ]
  },
  {
   "cell_type": "code",
   "execution_count": 56,
   "metadata": {
    "id": "dZ57Vl4Ud2xQ"
   },
   "outputs": [],
   "source": [
    "# integer encoding the documents\n",
    "\n",
    "t = Tokenizer()\n",
    "t.fit_on_texts(bot_final.Text)\n",
    "vocab_size = len(t.word_index) + 1\n",
    "\n",
    "encoded_docs = t.texts_to_sequences(bot_final.Text)\n",
    "bot_final['encoded_docs'] = encoded_docs"
   ]
  },
  {
   "cell_type": "code",
   "execution_count": 57,
   "metadata": {
    "id": "7f0P-1Kmd20G"
   },
   "outputs": [],
   "source": [
    "# padding the input to a maximum length of 10\n",
    "\n",
    "max_length = 10\n",
    "padded_docs = pad_sequences(bot_final.encoded_docs, maxlen=max_length, padding='post')"
   ]
  },
  {
   "cell_type": "code",
   "execution_count": 58,
   "metadata": {
    "id": "B5fBUABFKgzf"
   },
   "outputs": [],
   "source": [
    "# using label encoder to transform the target class\n",
    "\n",
    "label = LabelEncoder()\n",
    "y = label.fit_transform(bot_final.Target)\n",
    "y = to_categorical(y, num_classes=8)"
   ]
  },
  {
   "cell_type": "code",
   "execution_count": 59,
   "metadata": {
    "colab": {
     "base_uri": "https://localhost:8080/"
    },
    "id": "5y3dwIcNd223",
    "outputId": "40893320-082d-4849-dbf2-e51ed90ec62e"
   },
   "outputs": [
    {
     "name": "stdout",
     "output_type": "stream",
     "text": [
      "Loaded 400000 word vectors.\n"
     ]
    }
   ],
   "source": [
    "# using 300 dimensional glove vector\n",
    "\n",
    "embeddings_index = dict()\n",
    "f = open('/content/drive/MyDrive/NLP/Wee_3 Assignment/glove.6B.300d.txt')\n",
    "for line in f:\n",
    "\tvalues = line.split()\n",
    "\tword = values[0]\n",
    "\tcoefs = asarray(values[1:], dtype='float32')\n",
    "\tembeddings_index[word] = coefs\n",
    "f.close()\n",
    "print('Loaded %s word vectors.' % len(embeddings_index))"
   ]
  },
  {
   "cell_type": "code",
   "execution_count": 60,
   "metadata": {
    "id": "aWKnnOVJd25v"
   },
   "outputs": [],
   "source": [
    "# creating a embedding_matrix which will be used in our Neural Network\n",
    "\n",
    "embedding_matrix = zeros((vocab_size, 300))\n",
    "for word, i in t.word_index.items():\n",
    "\tembedding_vector = embeddings_index.get(word)\n",
    "\tif embedding_vector is not None:\n",
    "\t\tembedding_matrix[i] = embedding_vector"
   ]
  },
  {
   "cell_type": "code",
   "execution_count": 61,
   "metadata": {
    "colab": {
     "base_uri": "https://localhost:8080/"
    },
    "id": "6H1d08KTd287",
    "outputId": "dfd30278-26ba-446f-f5c9-e1e7279db98a"
   },
   "outputs": [
    {
     "name": "stdout",
     "output_type": "stream",
     "text": [
      "Model: \"sequential\"\n",
      "_________________________________________________________________\n",
      " Layer (type)                Output Shape              Param #   \n",
      "=================================================================\n",
      " embedding (Embedding)       (None, 10, 300)           71400     \n",
      "                                                                 \n",
      " flatten (Flatten)           (None, 3000)              0         \n",
      "                                                                 \n",
      " dense (Dense)               (None, 8)                 24008     \n",
      "                                                                 \n",
      "=================================================================\n",
      "Total params: 95,408\n",
      "Trainable params: 24,008\n",
      "Non-trainable params: 71,400\n",
      "_________________________________________________________________\n",
      "None\n"
     ]
    }
   ],
   "source": [
    "# creating a model with embedding layer where the embedding layer is formed using the GLOVE vectors\n",
    "\n",
    "model = Sequential()\n",
    "e = Embedding(vocab_size, 300, weights=[embedding_matrix], input_length=10, trainable=False)\n",
    "model.add(e)\n",
    "model.add(Flatten())\n",
    "model.add(Dense(8, activation='softmax'))\n",
    "\n",
    "# compile the model\n",
    "\n",
    "model.compile(optimizer='adam', loss='binary_crossentropy', metrics=['accuracy'])\n",
    "\n",
    "# summarize the model\n",
    "\n",
    "print(model.summary())"
   ]
  },
  {
   "cell_type": "code",
   "execution_count": 62,
   "metadata": {
    "colab": {
     "base_uri": "https://localhost:8080/"
    },
    "id": "24lIGRIygB15",
    "outputId": "d4713897-ade8-4742-cda6-d96a12fbc73f"
   },
   "outputs": [
    {
     "name": "stdout",
     "output_type": "stream",
     "text": [
      "Epoch 1/50\n",
      "179/179 [==============================] - 3s 3ms/step - loss: 0.3120 - accuracy: 0.5615\n",
      "Epoch 2/50\n",
      "179/179 [==============================] - 0s 3ms/step - loss: 0.1843 - accuracy: 0.8296\n",
      "Epoch 3/50\n",
      "179/179 [==============================] - 0s 3ms/step - loss: 0.1376 - accuracy: 0.9050\n",
      "Epoch 4/50\n",
      "179/179 [==============================] - 0s 3ms/step - loss: 0.1095 - accuracy: 0.9469\n",
      "Epoch 5/50\n",
      "179/179 [==============================] - 0s 3ms/step - loss: 0.0911 - accuracy: 0.9637\n",
      "Epoch 6/50\n",
      "179/179 [==============================] - 0s 3ms/step - loss: 0.0777 - accuracy: 0.9721\n",
      "Epoch 7/50\n",
      "179/179 [==============================] - 0s 3ms/step - loss: 0.0676 - accuracy: 0.9804\n",
      "Epoch 8/50\n",
      "179/179 [==============================] - 0s 3ms/step - loss: 0.0593 - accuracy: 0.9832\n",
      "Epoch 9/50\n",
      "179/179 [==============================] - 0s 3ms/step - loss: 0.0531 - accuracy: 0.9832\n",
      "Epoch 10/50\n",
      "179/179 [==============================] - 0s 3ms/step - loss: 0.0479 - accuracy: 0.9860\n",
      "Epoch 11/50\n",
      "179/179 [==============================] - 0s 3ms/step - loss: 0.0435 - accuracy: 0.9860\n",
      "Epoch 12/50\n",
      "179/179 [==============================] - 0s 3ms/step - loss: 0.0396 - accuracy: 0.9860\n",
      "Epoch 13/50\n",
      "179/179 [==============================] - 0s 3ms/step - loss: 0.0372 - accuracy: 0.9888\n",
      "Epoch 14/50\n",
      "179/179 [==============================] - 0s 3ms/step - loss: 0.0339 - accuracy: 0.9888\n",
      "Epoch 15/50\n",
      "179/179 [==============================] - 0s 3ms/step - loss: 0.0319 - accuracy: 0.9888\n",
      "Epoch 16/50\n",
      "179/179 [==============================] - 0s 3ms/step - loss: 0.0292 - accuracy: 0.9888\n",
      "Epoch 17/50\n",
      "179/179 [==============================] - 0s 3ms/step - loss: 0.0270 - accuracy: 0.9888\n",
      "Epoch 18/50\n",
      "179/179 [==============================] - 0s 3ms/step - loss: 0.0259 - accuracy: 0.9860\n",
      "Epoch 19/50\n",
      "179/179 [==============================] - 0s 3ms/step - loss: 0.0248 - accuracy: 0.9860\n",
      "Epoch 20/50\n",
      "179/179 [==============================] - 0s 3ms/step - loss: 0.0235 - accuracy: 0.9888\n",
      "Epoch 21/50\n",
      "179/179 [==============================] - 0s 3ms/step - loss: 0.0216 - accuracy: 0.9888\n",
      "Epoch 22/50\n",
      "179/179 [==============================] - 0s 3ms/step - loss: 0.0217 - accuracy: 0.9860\n",
      "Epoch 23/50\n",
      "179/179 [==============================] - 0s 3ms/step - loss: 0.0201 - accuracy: 0.9888\n",
      "Epoch 24/50\n",
      "179/179 [==============================] - 0s 3ms/step - loss: 0.0195 - accuracy: 0.9888\n",
      "Epoch 25/50\n",
      "179/179 [==============================] - 0s 3ms/step - loss: 0.0184 - accuracy: 0.9860\n",
      "Epoch 26/50\n",
      "179/179 [==============================] - 0s 3ms/step - loss: 0.0184 - accuracy: 0.9860\n",
      "Epoch 27/50\n",
      "179/179 [==============================] - 0s 3ms/step - loss: 0.0170 - accuracy: 0.9888\n",
      "Epoch 28/50\n",
      "179/179 [==============================] - 0s 3ms/step - loss: 0.0165 - accuracy: 0.9888\n",
      "Epoch 29/50\n",
      "179/179 [==============================] - 0s 3ms/step - loss: 0.0163 - accuracy: 0.9888\n",
      "Epoch 30/50\n",
      "179/179 [==============================] - 0s 3ms/step - loss: 0.0157 - accuracy: 0.9888\n",
      "Epoch 31/50\n",
      "179/179 [==============================] - 0s 3ms/step - loss: 0.0160 - accuracy: 0.9860\n",
      "Epoch 32/50\n",
      "179/179 [==============================] - 0s 3ms/step - loss: 0.0149 - accuracy: 0.9888\n",
      "Epoch 33/50\n",
      "179/179 [==============================] - 0s 3ms/step - loss: 0.0145 - accuracy: 0.9888\n",
      "Epoch 34/50\n",
      "179/179 [==============================] - 0s 3ms/step - loss: 0.0145 - accuracy: 0.9860\n",
      "Epoch 35/50\n",
      "179/179 [==============================] - 0s 3ms/step - loss: 0.0140 - accuracy: 0.9860\n",
      "Epoch 36/50\n",
      "179/179 [==============================] - 0s 3ms/step - loss: 0.0134 - accuracy: 0.9888\n",
      "Epoch 37/50\n",
      "179/179 [==============================] - 0s 3ms/step - loss: 0.0128 - accuracy: 0.9888\n",
      "Epoch 38/50\n",
      "179/179 [==============================] - 0s 3ms/step - loss: 0.0131 - accuracy: 0.9832\n",
      "Epoch 39/50\n",
      "179/179 [==============================] - 0s 3ms/step - loss: 0.0131 - accuracy: 0.9888\n",
      "Epoch 40/50\n",
      "179/179 [==============================] - 0s 3ms/step - loss: 0.0127 - accuracy: 0.9860\n",
      "Epoch 41/50\n",
      "179/179 [==============================] - 0s 3ms/step - loss: 0.0125 - accuracy: 0.9860\n",
      "Epoch 42/50\n",
      "179/179 [==============================] - 0s 3ms/step - loss: 0.0121 - accuracy: 0.9888\n",
      "Epoch 43/50\n",
      "179/179 [==============================] - 0s 3ms/step - loss: 0.0120 - accuracy: 0.9888\n",
      "Epoch 44/50\n",
      "179/179 [==============================] - 0s 3ms/step - loss: 0.0120 - accuracy: 0.9832\n",
      "Epoch 45/50\n",
      "179/179 [==============================] - 0s 3ms/step - loss: 0.0111 - accuracy: 0.9860\n",
      "Epoch 46/50\n",
      "179/179 [==============================] - 0s 3ms/step - loss: 0.0115 - accuracy: 0.9888\n",
      "Epoch 47/50\n",
      "179/179 [==============================] - 0s 3ms/step - loss: 0.0116 - accuracy: 0.9832\n",
      "Epoch 48/50\n",
      "179/179 [==============================] - 0s 3ms/step - loss: 0.0114 - accuracy: 0.9860\n",
      "Epoch 49/50\n",
      "179/179 [==============================] - 0s 3ms/step - loss: 0.0108 - accuracy: 0.9860\n",
      "Epoch 50/50\n",
      "179/179 [==============================] - 0s 3ms/step - loss: 0.0112 - accuracy: 0.9888\n"
     ]
    },
    {
     "data": {
      "text/plain": [
       "<keras.callbacks.History at 0x7f3e560c0c50>"
      ]
     },
     "execution_count": 62,
     "metadata": {},
     "output_type": "execute_result"
    }
   ],
   "source": [
    "# fitting the model on the data\n",
    "\n",
    "model.fit(padded_docs, y, epochs=50,batch_size=2)"
   ]
  },
  {
   "cell_type": "code",
   "execution_count": 63,
   "metadata": {
    "colab": {
     "base_uri": "https://localhost:8080/"
    },
    "id": "HGv4estQd2--",
    "outputId": "20656650-8bb7-4e62-9f69-ec695c7ac9d2"
   },
   "outputs": [
    {
     "name": "stdout",
     "output_type": "stream",
     "text": [
      "12/12 [==============================] - 0s 3ms/step - loss: 0.0095 - accuracy: 0.9888\n",
      "Accuracy: 98.882681\n"
     ]
    }
   ],
   "source": [
    "# evaluate the model\n",
    "loss, accuracy = model.evaluate(padded_docs, y)\n",
    "print('Accuracy: %f' % (accuracy*100))"
   ]
  },
  {
   "cell_type": "code",
   "execution_count": 64,
   "metadata": {
    "id": "sKJ3PbveApm_"
   },
   "outputs": [],
   "source": [
    "# function which is used to run the chat bot\n",
    "\n",
    "def chat():\n",
    "  print(\"Hi I'm Mateo. How can I help you. Please phrase your questions to 10 word characters.(type: stop to quit)\")\n",
    "  while True:\n",
    "    inp = input(\"\\n\\n You: \")\n",
    "    if inp.lower() == \"quit\":\n",
    "      break\n",
    "    \n",
    "    predict = [inp]\n",
    "    predict_encoded = t.texts_to_sequences(predict)\n",
    "    padded_predict = pad_sequences(predict_encoded, maxlen=max_length, padding='post')\n",
    "    chat_pred = model.predict(padded_predict)\n",
    "    classes_x=np.argmax(chat_pred,axis=1)\n",
    "    class_predict = label.inverse_transform(classes_x)\n",
    "\n",
    "    for tg in data['intents']:\n",
    "      if tg['tag'] == class_predict:\n",
    "        responses = tg['responses']\n",
    "        print(random.choice(responses))"
   ]
  },
  {
   "cell_type": "code",
   "execution_count": 66,
   "metadata": {
    "colab": {
     "base_uri": "https://localhost:8080/"
    },
    "id": "XKsJ7CjTDQWV",
    "outputId": "6350f19f-2aea-40cd-b38b-5a34f61ad006"
   },
   "outputs": [
    {
     "name": "stdout",
     "output_type": "stream",
     "text": [
      "Hi I'm Mateo. How can I help you. Please phrase your questions to 10 word characters.(type: stop to quit)\n",
      "\n",
      "\n",
      " You: Hi\n",
      "Hello! how can i help you ?\n",
      "\n",
      "\n",
      " You: I am unable to understand neural networks\n",
      "Link: Neural Nets wiki\n",
      "\n",
      "\n",
      " You: When is your working hours\n",
      "I am your virtual learning assistant\n",
      "\n",
      "\n",
      " You: The answer was not good\n",
      "Hello! how can i help you ?\n",
      "\n",
      "\n",
      " You: This is a bad solution\n",
      "Tarnsferring the request to your PM\n",
      "\n",
      "\n",
      " You: Stupid\n",
      "Please use respectful words\n",
      "\n",
      "\n",
      " You: Idiot\n",
      "Please use respectful words\n",
      "\n",
      "\n",
      " You: How to use olympus\n",
      "Link: Olympus wiki\n",
      "\n",
      "\n",
      " You: teach me olympus\n",
      "Link: Olympus wiki\n",
      "\n",
      "\n",
      " You: Unable to understand knn\n",
      "Link: Machine Learning wiki \n",
      "\n",
      "\n",
      " You: thanks\n",
      "I hope I was able to assist you, Good Bye\n",
      "\n",
      "\n",
      " You: quit\n"
     ]
    }
   ],
   "source": [
    "chat()"
   ]
  },
  {
   "cell_type": "code",
   "execution_count": null,
   "metadata": {
    "id": "-m8ztj0BAppg"
   },
   "outputs": [],
   "source": []
  },
  {
   "cell_type": "code",
   "execution_count": null,
   "metadata": {
    "id": "rgdT-IdEZKTC"
   },
   "outputs": [],
   "source": []
  }
 ],
 "metadata": {
  "accelerator": "GPU",
  "colab": {
   "collapsed_sections": [],
   "name": "NLP Week-3 Assignment.ipynb",
   "provenance": []
  },
  "kernelspec": {
   "display_name": "Python 3",
   "language": "python",
   "name": "python3"
  },
  "language_info": {
   "codemirror_mode": {
    "name": "ipython",
    "version": 3
   },
   "file_extension": ".py",
   "mimetype": "text/x-python",
   "name": "python",
   "nbconvert_exporter": "python",
   "pygments_lexer": "ipython3",
   "version": "3.8.8"
  }
 },
 "nbformat": 4,
 "nbformat_minor": 1
}
